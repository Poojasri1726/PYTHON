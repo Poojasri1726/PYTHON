{
  "nbformat": 4,
  "nbformat_minor": 0,
  "metadata": {
    "colab": {
      "provenance": []
    },
    "kernelspec": {
      "name": "python3",
      "display_name": "Python 3"
    },
    "language_info": {
      "name": "python"
    }
  },
  "cells": [
    {
      "cell_type": "markdown",
      "source": [
        "SUM OF TWO NUMBERS"
      ],
      "metadata": {
        "id": "xdjkfwtns-om"
      }
    },
    {
      "cell_type": "code",
      "execution_count": null,
      "metadata": {
        "colab": {
          "base_uri": "https://localhost:8080/"
        },
        "id": "o1Dyyao_st3t",
        "outputId": "765cf0c8-2619-44f7-fd97-9f810ac4e837"
      },
      "outputs": [
        {
          "output_type": "stream",
          "name": "stdout",
          "text": [
            "enter first number:12\n",
            "enter second number:45\n",
            "57\n"
          ]
        }
      ],
      "source": [
        "a=int(input(\"enter first number:\"))\n",
        "b=int(input(\"enter second number:\"))\n",
        "print(a+b)"
      ]
    },
    {
      "cell_type": "markdown",
      "source": [
        "MAXIMUM NUMBERS"
      ],
      "metadata": {
        "id": "UKTk-joZthMT"
      }
    },
    {
      "cell_type": "code",
      "source": [
        "a=int(input(\"enter first number:\"))\n",
        "b=int(input(\"enter second number:\"))\n",
        "if a>b:\n",
        "       print(a,\"is maximum\")\n",
        "else:\n",
        "      7 print(b,\"is maximum\")"
      ],
      "metadata": {
        "colab": {
          "base_uri": "https://localhost:8080/"
        },
        "id": "t5aEOamVtmGp",
        "outputId": "c10a8758-e675-47e1-b84b-34db71a08075"
      },
      "execution_count": null,
      "outputs": [
        {
          "output_type": "stream",
          "name": "stdout",
          "text": [
            "enter first number:34\n",
            "enter second number:68\n",
            "68 is maximum\n"
          ]
        }
      ]
    },
    {
      "cell_type": "markdown",
      "source": [
        "FACTORIAL"
      ],
      "metadata": {
        "id": "5381ZmPkug-n"
      }
    },
    {
      "cell_type": "code",
      "source": [
        "def factorial(n):\n",
        "    if n == 0 or n == 1:\n",
        "        return 1\n",
        "    else:\n",
        "        return n * factorial(n - 1)\n",
        "\n",
        "num = int(input(\"Enter a number: \"))\n",
        "\n",
        "if num < 0:\n",
        "    print(\"Factorial does not exist for negative numbers.\")\n",
        "else:\n",
        "    print(f\"The factorial of {num} is: {factorial(num)}\")"
      ],
      "metadata": {
        "colab": {
          "base_uri": "https://localhost:8080/"
        },
        "id": "_58cMYEVu4V4",
        "outputId": "77e5c213-4062-4c6b-aaea-4227fcae922e"
      },
      "execution_count": null,
      "outputs": [
        {
          "output_type": "stream",
          "name": "stdout",
          "text": [
            "Enter a number: 6\n",
            "The factorial of 6 is: 720\n"
          ]
        }
      ]
    },
    {
      "cell_type": "markdown",
      "source": [
        "SIMPLE INTREST"
      ],
      "metadata": {
        "id": "PhAYHa88vPaO"
      }
    },
    {
      "cell_type": "code",
      "source": [
        "def simple_interest(principal, rate, time):\n",
        "    interest = (principal * rate * time) / 100\n",
        "    return interest\n",
        "\n",
        "principal = float(input(\"Enter the principal amount: \"))\n",
        "rate = float(input(\"Enter the rate of interest: \"))\n",
        "time = float(input(\"Enter the time in years: \"))\n",
        "interest = simple_interest(principal, rate, time)\n",
        "\n",
        "print(f\"The simple interest is: {interest}\")\n"
      ],
      "metadata": {
        "colab": {
          "base_uri": "https://localhost:8080/"
        },
        "id": "P2O_PNjfvTTI",
        "outputId": "24378fba-6a8b-4739-a3e4-9a821f26a869"
      },
      "execution_count": null,
      "outputs": [
        {
          "output_type": "stream",
          "name": "stdout",
          "text": [
            "Enter the principal amount: 50000\n",
            "Enter the rate of interest: 3\n",
            "Enter the time in years: 3\n",
            "The simple interest is: 4500.0\n"
          ]
        }
      ]
    },
    {
      "cell_type": "markdown",
      "source": [
        "COMPOUND INTREST"
      ],
      "metadata": {
        "id": "NQWqRF8Kwpfn"
      }
    },
    {
      "cell_type": "code",
      "source": [
        "def compound_interest(principal, rate, time, n):\n",
        "    amount = principal * (1 + rate / (n * 100)) ** (n * time)\n",
        "    interest = amount - principal\n",
        "    return interest\n",
        "\n",
        "principal = float(input(\"Enter the principal amount: \"))\n",
        "rate = float(input(\"Enter the annual rate of interest: \"))\n",
        "time = float(input(\"Enter the time in years: \"))\n",
        "n = int(input(\"Enter the number of times interest is compounded per year: \"))\n",
        "\n",
        "interest = compound_interest(principal, rate, time, n)\n",
        "\n",
        "print(f\"The compound interest is: {interest}\")\n"
      ],
      "metadata": {
        "colab": {
          "base_uri": "https://localhost:8080/"
        },
        "id": "PUP3JTpkwsuF",
        "outputId": "b78d74bd-4c76-46b5-de1d-c85dc17dba2d"
      },
      "execution_count": null,
      "outputs": [
        {
          "output_type": "stream",
          "name": "stdout",
          "text": [
            "Enter the principal amount: 30000\n",
            "Enter the annual rate of interest: 2\n",
            "Enter the time in years: 2\n",
            "Enter the number of times interest is compounded per year: 3\n",
            "The compound interest is: 1220.1786690396548\n"
          ]
        }
      ]
    },
    {
      "cell_type": "markdown",
      "source": [
        "AMSTRONG NUMBER"
      ],
      "metadata": {
        "id": "rC_ucnaNxAzO"
      }
    },
    {
      "cell_type": "code",
      "source": [
        "def is_armstrong(number):\n",
        "\n",
        "    num_str = str(number)\n",
        "    num_digits = len(num_str)\n",
        "    sum_of_digits = sum(int(digit) ** num_digits for digit in num_str)\n",
        "    return sum_of_digits == number\n",
        "number = int(input(\"Enter a number: \"))\n",
        "\n",
        "if is_armstrong(number):\n",
        "    print(f\"{number} is an Armstrong number.\")\n",
        "else:\n",
        "    print(f\"{number} is not an Armstrong number.\")\n"
      ],
      "metadata": {
        "colab": {
          "base_uri": "https://localhost:8080/"
        },
        "id": "JoU5xnD0xDoO",
        "outputId": "cf9d7b18-fec9-4cd0-8509-08b35b27ea3c"
      },
      "execution_count": null,
      "outputs": [
        {
          "output_type": "stream",
          "name": "stdout",
          "text": [
            "Enter a number: 456\n",
            "456 is not an Armstrong number.\n"
          ]
        }
      ]
    },
    {
      "cell_type": "markdown",
      "source": [
        "AREA OF CIRCLE"
      ],
      "metadata": {
        "id": "kyIPQGjNxc6w"
      }
    },
    {
      "cell_type": "code",
      "source": [
        "import math\n",
        "def area_of_circle(radius):\n",
        "    return math.pi * (radius ** 2)\n",
        "\n",
        "radius = float(input(\"Enter the radius of the circle: \"))\n",
        "\n",
        "area = area_of_circle(radius)\n",
        "print(f\"The area of the circle with radius {radius} is: {area:.2f}\")\n"
      ],
      "metadata": {
        "colab": {
          "base_uri": "https://localhost:8080/"
        },
        "id": "gkUuvSYgxoTV",
        "outputId": "e3d663e7-f31e-4716-a080-568ed39de47f"
      },
      "execution_count": null,
      "outputs": [
        {
          "output_type": "stream",
          "name": "stdout",
          "text": [
            "Enter the radius of the circle: 25\n",
            "The area of the circle with radius 25.0 is: 1963.50\n"
          ]
        }
      ]
    },
    {
      "cell_type": "markdown",
      "source": [
        "ALL PRIME NUMBERS IN INTERVAL"
      ],
      "metadata": {
        "id": "fcg2iiv9yC1R"
      }
    },
    {
      "cell_type": "code",
      "source": [
        "def is_prime(num):\n",
        "    if num <= 1:\n",
        "        return False\n",
        "    for i in range(2, int(num**0.5) + 1):\n",
        "        if num % i == 0:\n",
        "            return False\n",
        "    return True\n",
        "\n",
        "\n",
        "lower = int(input(\"Enter the lower bound of the interval: \"))\n",
        "upper = int(input(\"Enter the upper bound of the interval: \"))\n",
        "\n",
        "\n",
        "print(f\"Prime numbers between {lower} and {upper} are:\")\n",
        "for number in range(lower, upper + 1):\n",
        "    if is_prime(number):\n",
        "        print(number)\n",
        "\n"
      ],
      "metadata": {
        "colab": {
          "base_uri": "https://localhost:8080/"
        },
        "id": "TrsUzXI3yLB0",
        "outputId": "68fda458-a3ff-4732-e78f-3d1b3df5d5b1"
      },
      "execution_count": null,
      "outputs": [
        {
          "output_type": "stream",
          "name": "stdout",
          "text": [
            "Enter the lower bound of the interval: 23\n",
            "Enter the upper bound of the interval: 45\n",
            "Prime numbers between 23 and 45 are:\n",
            "23\n",
            "29\n",
            "31\n",
            "37\n",
            "41\n",
            "43\n"
          ]
        }
      ]
    },
    {
      "cell_type": "markdown",
      "source": [
        "PRIME ARE NOT"
      ],
      "metadata": {
        "id": "21eiU-qsysl-"
      }
    },
    {
      "cell_type": "code",
      "source": [
        "def is_prime(num):\n",
        "    if num <= 1:\n",
        "        return False\n",
        "    for i in range(2, int(num**0.5) + 1):\n",
        "        if num % i == 0:\n",
        "            return False\n",
        "    return True\n",
        "\n",
        "number = int(input(\"Enter a number: \"))\n",
        "\n",
        "\n",
        "if is_prime(number):\n",
        "    print(f\"{number} is a prime number.\")\n",
        "else:\n",
        "    print(f\"{number} is not a prime number.\")\n"
      ],
      "metadata": {
        "colab": {
          "base_uri": "https://localhost:8080/"
        },
        "id": "ODQ9z0r0y8F5",
        "outputId": "708e7e41-920c-43e5-8863-5ad338427c20"
      },
      "execution_count": null,
      "outputs": [
        {
          "output_type": "stream",
          "name": "stdout",
          "text": [
            "Enter a number: 5\n",
            "5 is a prime number.\n"
          ]
        }
      ]
    },
    {
      "cell_type": "markdown",
      "source": [
        "NTH FIBONACCI NUMBER"
      ],
      "metadata": {
        "id": "-DvcJTOkzC_2"
      }
    },
    {
      "cell_type": "code",
      "source": [
        "def fibonacci_iterative(n):\n",
        "    if n <= 0:\n",
        "        return \"Invalid input\"\n",
        "    elif n == 1:\n",
        "        return 0\n",
        "    elif n == 2:\n",
        "        return 1\n",
        "\n",
        "    a, b = 0, 1\n",
        "    for _ in range(2, n):\n",
        "        a, b = b, a + b\n",
        "    return b\n",
        "\n",
        "n = int(input(\"Enter the position N to find the Nth Fibonacci number: \"))\n",
        "\n",
        "result = fibonacci_iterative(n)\n",
        "print(f\"The {n}th Fibonacci number is: {result}\")\n"
      ],
      "metadata": {
        "colab": {
          "base_uri": "https://localhost:8080/"
        },
        "id": "fdzetU9_zNpW",
        "outputId": "c39c5421-be0d-4b50-e0a0-bd51adb70238"
      },
      "execution_count": null,
      "outputs": [
        {
          "output_type": "stream",
          "name": "stdout",
          "text": [
            "Enter the position N to find the Nth Fibonacci number: 20\n",
            "The 20th Fibonacci number is: 4181\n"
          ]
        }
      ]
    },
    {
      "cell_type": "markdown",
      "source": [
        "GIVEN NUM IS FIBONACCI NUM"
      ],
      "metadata": {
        "id": "aMFlzlVgznH9"
      }
    },
    {
      "cell_type": "code",
      "source": [
        "def fibonacci_sequence(limit):\n",
        "    fib_nums = [0, 1]\n",
        "    while True:\n",
        "        next_fib = fib_nums[-1] + fib_nums[-2]\n",
        "        if next_fib > limit:\n",
        "            break\n",
        "        fib_nums.append(next_fib)\n",
        "    return fib_nums\n",
        "\n",
        "number = int(input(\"Enter a number to check if it is a Fibonacci number: \"))\n",
        "\n",
        "fib_nums = fibonacci_sequence(number)\n",
        "if number in fib_nums:\n",
        "    print(f\"{number} is a Fibonacci number.\")\n",
        "else:\n",
        "    print(f\"{number} is not a Fibonacci number.\")\n"
      ],
      "metadata": {
        "colab": {
          "base_uri": "https://localhost:8080/"
        },
        "id": "Lx48rhixzwth",
        "outputId": "b0abc1c1-be99-47c4-93a2-bc93313aef30"
      },
      "execution_count": null,
      "outputs": [
        {
          "output_type": "stream",
          "name": "stdout",
          "text": [
            "Enter a number to check if it is a Fibonacci number: 56\n",
            "56 is not a Fibonacci number.\n"
          ]
        }
      ]
    },
    {
      "cell_type": "markdown",
      "source": [
        "NTH MUTIPLE OF FIBONACCI"
      ],
      "metadata": {
        "id": "UgerjoDm0cRo"
      }
    },
    {
      "cell_type": "code",
      "source": [
        "def fibonacci(n):\n",
        "    if n <= 0:\n",
        "        return \"Invalid input\"\n",
        "    elif n == 1:\n",
        "        return 0\n",
        "    elif n == 2:\n",
        "        return 1\n",
        "\n",
        "    a, b = 0, 1\n",
        "    for _ in range(2, n):\n",
        "        a, b = b, a + b\n",
        "    return b\n",
        "\n",
        "n = int(input(\"Enter the position N to find the Nth Fibonacci number: \"))\n",
        "\n",
        "result = fibonacci(n)\n",
        "print(f\"The {n}th Fibonacci number is: {result}\")\n"
      ],
      "metadata": {
        "colab": {
          "base_uri": "https://localhost:8080/"
        },
        "id": "cBjdC5Ef0fOi",
        "outputId": "7bbdf441-42a1-4627-e0fe-daaa3e9c910d"
      },
      "execution_count": null,
      "outputs": [
        {
          "output_type": "stream",
          "name": "stdout",
          "text": [
            "Enter the position N to find the Nth Fibonacci number: 26\n",
            "The 26th Fibonacci number is: 75025\n"
          ]
        }
      ]
    },
    {
      "cell_type": "markdown",
      "source": [
        "ASCII VALUE"
      ],
      "metadata": {
        "id": "JC4hRx5s0wIA"
      }
    },
    {
      "cell_type": "code",
      "source": [
        "char = input(\"Enter a character: \")\n",
        "\n",
        "if len(char) == 1:\n",
        "    ascii_value = ord(char)\n",
        "    print(f\"The ASCII value of '{char}' is: {ascii_value}\")\n",
        "else:\n",
        "    print(\"Please enter a single character.\")\n"
      ],
      "metadata": {
        "colab": {
          "base_uri": "https://localhost:8080/"
        },
        "id": "ihCSzApc1CbN",
        "outputId": "106fee41-419f-49c5-b3a9-6ccbafff46e0"
      },
      "execution_count": null,
      "outputs": [
        {
          "output_type": "stream",
          "name": "stdout",
          "text": [
            "Enter a character: p\n",
            "The ASCII value of 'p' is: 112\n"
          ]
        }
      ]
    },
    {
      "cell_type": "markdown",
      "source": [
        "SUM OF SQUARES OF N NATURAL NUMBERS"
      ],
      "metadata": {
        "id": "w35syiur1LId"
      }
    },
    {
      "cell_type": "code",
      "source": [
        "def sum_of_squares(n):\n",
        "    return sum(i ** 2 for i in range(1, n + 1))\n",
        "\n",
        "n = int(input(\"Enter a natural number n: \"))\n",
        "\n",
        "result = sum_of_squares(n)\n",
        "print(f\"The sum of squares of the first {n} natural numbers is: {result}\")"
      ],
      "metadata": {
        "colab": {
          "base_uri": "https://localhost:8080/"
        },
        "id": "ZLHV_rki1Sjc",
        "outputId": "15f0f0bf-edfe-483a-db8a-b40cdd84fe3f"
      },
      "execution_count": null,
      "outputs": [
        {
          "output_type": "stream",
          "name": "stdout",
          "text": [
            "Enter a natural number n: 7\n",
            "The sum of squares of the first 7 natural numbers is: 140\n"
          ]
        }
      ]
    },
    {
      "cell_type": "markdown",
      "source": [
        "CUBE OF N NATURAL NUMBERS"
      ],
      "metadata": {
        "id": "jxlsS-KH1lPQ"
      }
    },
    {
      "cell_type": "code",
      "source": [
        "def sum_of_cubes_of_squares(n):\n",
        "    return sum((i ** 2) ** 3 for i in range(1, n + 1))\n",
        "n = int(input(\"Enter a natural number n: \"))\n",
        "\n",
        "result = sum_of_cubes_of_squares(n)\n",
        "print(f\"The sum of the cubes of the squares of the first {n} natural numbers is: {result}\")\n"
      ],
      "metadata": {
        "colab": {
          "base_uri": "https://localhost:8080/"
        },
        "id": "QbNMoU_b1zZ5",
        "outputId": "e1f183b3-c549-4241-bb60-793b590c01de"
      },
      "execution_count": null,
      "outputs": [
        {
          "output_type": "stream",
          "name": "stdout",
          "text": [
            "Enter a natural number n: 8\n",
            "The sum of the cubes of the squares of the first 8 natural numbers is: 446964\n"
          ]
        }
      ]
    }
  ]
}