{
  "nbformat": 4,
  "nbformat_minor": 0,
  "metadata": {
    "colab": {
      "provenance": [],
      "authorship_tag": "ABX9TyO++DcgWKAuiRhhK2jOPd3N",
      "include_colab_link": true
    },
    "kernelspec": {
      "name": "python3",
      "display_name": "Python 3"
    },
    "language_info": {
      "name": "python"
    }
  },
  "cells": [
    {
      "cell_type": "markdown",
      "metadata": {
        "id": "view-in-github",
        "colab_type": "text"
      },
      "source": [
        "<a href=\"https://colab.research.google.com/github/Poojasri1726/PYTHON/blob/main/Copy_of_INSERT_ELEMENT_AT_ARRAY.ipynb\" target=\"_parent\"><img src=\"https://colab.research.google.com/assets/colab-badge.svg\" alt=\"Open In Colab\"/></a>"
      ]
    },
    {
      "cell_type": "markdown",
      "source": [
        "INSERT ELEMENT AT GIVEN LOCATION IN ARRAY"
      ],
      "metadata": {
        "id": "EeBKJSy_FpMA"
      }
    },
    {
      "cell_type": "code",
      "execution_count": null,
      "metadata": {
        "colab": {
          "base_uri": "https://localhost:8080/"
        },
        "id": "KxHhrGivFmxh",
        "outputId": "959952d6-d3e4-439a-948c-559e188b3148"
      },
      "outputs": [
        {
          "output_type": "stream",
          "name": "stdout",
          "text": [
            "Updated array for case 1: [1, 2, 9, 3, 4]\n",
            "Updated array for case 2: [9, 10, 2, 4, 8]\n"
          ]
        }
      ],
      "source": [
        "def insert_element(arr, element, index):\n",
        "\n",
        "    arr.insert(index, element)\n",
        "    return arr\n",
        "\n",
        "# Case 1\n",
        "array1 = [1, 2, 3, 4]\n",
        "element1 = 9\n",
        "index1 = 2\n",
        "print(f\"Updated array for case 1: {insert_element(array1, element1, index1)}\")\n",
        "\n",
        "# Case 2\n",
        "array2 = [9, 2, 4, 8]\n",
        "element2 = 10\n",
        "index2 = 1\n",
        "print(f\"Updated array for case 2: {insert_element(array2, element2, index2)}\")\n",
        "\n"
      ]
    }
  ]
}